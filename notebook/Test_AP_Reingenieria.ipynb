{
 "cells": [
  {
   "cell_type": "markdown",
   "metadata": {},
   "source": [
    "# Testing ETL Process\n",
    "## Extract pdf and info from intranet site"
   ]
  },
  {
   "cell_type": "code",
   "execution_count": null,
   "metadata": {},
   "outputs": [],
   "source": [
    "# Prepare a function to read the configuration file with the confidential data...\n",
    "# ...because the website is an private website on an Intranet, the production file is config.yaml.\n",
    "# In GitHub there is only a config.yaml.example with dummy data\n",
    "\n",
    "import yaml\n",
    "\n",
    "__config = None\n",
    "\n",
    "def config():\n",
    "\n",
    "    global __config\n",
    "\n",
    "    if not __config:\n",
    "        with open('./config.yaml', mode='r') as f:\n",
    "            config = yaml.safe_load(f)\n",
    "\n",
    "    return config"
   ]
  },
  {
   "cell_type": "code",
   "execution_count": null,
   "metadata": {},
   "outputs": [],
   "source": [
    "# Get the url on the config file\n",
    "\n",
    "url = config()['websites']['alta_patronal']['url']\n",
    "user = config()['websites']['alta_patronal']['user']\n",
    "pwd = config()['websites']['alta_patronal']['pwd']\n",
    "url_stats = config()['websites']['alta_patronal']['url_stats']\n",
    "date1 = config()['websites']['alta_patronal']['date1']\n",
    "date2 = config()['websites']['alta_patronal']['date2']\n",
    "download_dir = config()['websites']['alta_patronal']['download_dir']\n",
    "path_to_chromedriver = config()['websites']['path_to_chromedriver']\n"
   ]
  },
  {
   "cell_type": "code",
   "execution_count": null,
   "metadata": {},
   "outputs": [],
   "source": [
    "#from selenium.webdriver.support.ui import WebDriverWait\n",
    "#from selenium.webdriver.support import expected_conditions as EC\n",
    "#from selenium.common.exceptions import TimeoutException\n",
    "\n",
    "from selenium import webdriver\n",
    "from selenium.webdriver.common.by import By\n",
    "from selenium.webdriver.chrome.options import Options\n",
    "\n",
    "import os\n",
    "\n",
    "options = webdriver.ChromeOptions()\n",
    "\n",
    "options.add_experimental_option('prefs', {\n",
    "  'download.prompt_for_download': False,\n",
    "  'download.default_directory': str(os.path.dirname(os.path.abspath(os.getcwd()))) + download_dir,\n",
    "  'download.directory_upgrade': True,\n",
    "  'safebrowsing.enabled': True\n",
    "})\n",
    "\n",
    "driver = webdriver.Chrome(executable_path=path_to_chromedriver, options=options)\n",
    "\n",
    "driver.get(url)"
   ]
  },
  {
   "cell_type": "code",
   "execution_count": null,
   "metadata": {},
   "outputs": [],
   "source": [
    "# Find the fields user and pwd\n",
    "driver.find_element_by_xpath('//input[@id=\"cveUsuario\"]').get_attribute('id')"
   ]
  },
  {
   "cell_type": "code",
   "execution_count": null,
   "metadata": {},
   "outputs": [],
   "source": [
    "driver.find_element_by_xpath('//input[@id=\"contrasenia\"]').get_attribute('id')"
   ]
  },
  {
   "cell_type": "code",
   "execution_count": null,
   "metadata": {},
   "outputs": [],
   "source": [
    "# Send the credentials\n",
    "driver.find_element_by_xpath('//input[@id=\"cveUsuario\"]').send_keys(user)"
   ]
  },
  {
   "cell_type": "code",
   "execution_count": null,
   "metadata": {},
   "outputs": [],
   "source": [
    "driver.find_element_by_xpath('//input[@id=\"contrasenia\"]').send_keys(pwd)"
   ]
  },
  {
   "cell_type": "code",
   "execution_count": null,
   "metadata": {},
   "outputs": [],
   "source": [
    "# Locate button to log in\n",
    "driver.find_element_by_xpath('//input[@type=\"button\"]').get_attribute('name')"
   ]
  },
  {
   "cell_type": "code",
   "execution_count": null,
   "metadata": {},
   "outputs": [],
   "source": [
    "# Log in\n",
    "driver.find_element_by_xpath('//input[@type=\"button\"]').click()"
   ]
  },
  {
   "cell_type": "code",
   "execution_count": null,
   "metadata": {},
   "outputs": [],
   "source": [
    "# Revisar mensaje de error en login\n",
    "driver.find_element_by_xpath('//font[@color=\"red\"]/div')"
   ]
  },
  {
   "cell_type": "code",
   "execution_count": null,
   "metadata": {},
   "outputs": [],
   "source": [
    "# Read the error message\n",
    "driver.find_element_by_xpath('//font[@color=\"red\"]/div').text"
   ]
  },
  {
   "cell_type": "code",
   "execution_count": null,
   "metadata": {},
   "outputs": [],
   "source": [
    "driver.get(url_stats)"
   ]
  },
  {
   "cell_type": "code",
   "execution_count": null,
   "metadata": {},
   "outputs": [],
   "source": [
    "# Locate component date\n",
    "driver.find_element_by_xpath('//input[@name=\"fechaInicio\"]').get_attribute('id')"
   ]
  },
  {
   "cell_type": "code",
   "execution_count": null,
   "metadata": {},
   "outputs": [],
   "source": [
    "driver.find_element_by_xpath('//input[@name=\"fechaFin\"]').get_attribute('id')"
   ]
  },
  {
   "cell_type": "code",
   "execution_count": null,
   "metadata": {},
   "outputs": [],
   "source": [
    "# Send the first date\n",
    "driver.find_element_by_xpath('//input[@name=\"fechaInicio\"]').send_keys(date1)"
   ]
  },
  {
   "cell_type": "code",
   "execution_count": null,
   "metadata": {},
   "outputs": [],
   "source": [
    "# Send the second date\n",
    "driver.find_element_by_xpath('//input[@name=\"fechaFin\"]').send_keys(date2)"
   ]
  },
  {
   "cell_type": "code",
   "execution_count": null,
   "metadata": {},
   "outputs": [],
   "source": [
    "# Now, the next element is a select menu, so we need to import Select from Selenium\n",
    "from selenium.webdriver.support.select import Select\n"
   ]
  },
  {
   "cell_type": "code",
   "execution_count": null,
   "metadata": {},
   "outputs": [],
   "source": [
    "# Locate the element\n",
    "driver.find_element_by_xpath('//select[@id=\"slcTipoReporte\"]').get_attribute('name')"
   ]
  },
  {
   "cell_type": "code",
   "execution_count": null,
   "metadata": {},
   "outputs": [],
   "source": [
    "# Inspect the select and print the options\n",
    "# First we get the name of the select menu\n",
    "\n",
    "test = Select(driver.find_element_by_xpath('//select[@id=\"slcTipoReporte\"]'))\n",
    "\n",
    "#print(test.options[0].text)\n",
    "#print(test.options[4].text)"
   ]
  },
  {
   "cell_type": "code",
   "execution_count": null,
   "metadata": {},
   "outputs": [],
   "source": [
    "# Select the correct option \n",
    "test.select_by_value('4')"
   ]
  },
  {
   "cell_type": "code",
   "execution_count": null,
   "metadata": {},
   "outputs": [],
   "source": [
    "# Locate the button to get the report\n",
    "driver.find_element_by_xpath('//input[@type=\"button\"]')"
   ]
  },
  {
   "cell_type": "code",
   "execution_count": null,
   "metadata": {},
   "outputs": [],
   "source": [
    "# Click the button\n",
    "driver.find_element_by_xpath('//input[@type=\"button\"]').click()"
   ]
  },
  {
   "cell_type": "code",
   "execution_count": null,
   "metadata": {},
   "outputs": [],
   "source": [
    "# Close Driver\n",
    "driver.close()"
   ]
  },
  {
   "cell_type": "markdown",
   "metadata": {},
   "source": [
    "## Successful file download"
   ]
  },
  {
   "cell_type": "code",
   "execution_count": null,
   "metadata": {
    "scrolled": true
   },
   "outputs": [],
   "source": [
    "# Install module\n",
    "!pip install PyPDF2"
   ]
  },
  {
   "cell_type": "code",
   "execution_count": null,
   "metadata": {},
   "outputs": [],
   "source": [
    "import PyPDF2\n",
    "\n",
    "# Read the PDF\n",
    "pdfFileObj = open('../downloads/Reporte.pdf', 'rb')\n",
    "pdfReader = PyPDF2.PdfFileReader(pdfFileObj)\n",
    "doc_info = PyPDF2.PdfFileReader(pdfFileObj).getDocumentInfo()\n",
    "\n",
    "# Show numPages\n",
    "pdfReader.numPages"
   ]
  },
  {
   "cell_type": "code",
   "execution_count": null,
   "metadata": {},
   "outputs": [],
   "source": [
    "doc_info"
   ]
  },
  {
   "cell_type": "code",
   "execution_count": null,
   "metadata": {},
   "outputs": [],
   "source": [
    "pageObj = pdfReader.getPage(0)"
   ]
  },
  {
   "cell_type": "code",
   "execution_count": null,
   "metadata": {},
   "outputs": [],
   "source": [
    "pageObj.extractText()"
   ]
  },
  {
   "cell_type": "code",
   "execution_count": 4,
   "metadata": {},
   "outputs": [],
   "source": [
    "# Try using tabula jar\n",
    "!java -jar ../../tabula/tabula-1.0.4-jar-with-dependencies.jar ../downloads/Reporte.pdf --format CSV --pages all --outfile Reporte_AP_Reingenieria3.csv"
   ]
  },
  {
   "cell_type": "code",
   "execution_count": 5,
   "metadata": {},
   "outputs": [
    {
     "data": {
      "text/html": [
       "<div>\n",
       "<style scoped>\n",
       "    .dataframe tbody tr th:only-of-type {\n",
       "        vertical-align: middle;\n",
       "    }\n",
       "\n",
       "    .dataframe tbody tr th {\n",
       "        vertical-align: top;\n",
       "    }\n",
       "\n",
       "    .dataframe thead th {\n",
       "        text-align: right;\n",
       "    }\n",
       "</style>\n",
       "<table border=\"1\" class=\"dataframe\">\n",
       "  <thead>\n",
       "    <tr style=\"text-align: right;\">\n",
       "      <th></th>\n",
       "      <th>REG PATRONAL</th>\n",
       "      <th>MODALIDAD</th>\n",
       "      <th>CIZ</th>\n",
       "      <th>DELEGACIÓN</th>\n",
       "      <th>SUBDELEGACIÓN</th>\n",
       "      <th>HORA</th>\n",
       "      <th>TIEMPO DE TRÁMITE</th>\n",
       "      <th>Unnamed: 7</th>\n",
       "      <th>Unnamed: 8</th>\n",
       "      <th>Unnamed: 9</th>\n",
       "    </tr>\n",
       "  </thead>\n",
       "  <tbody>\n",
       "    <tr>\n",
       "      <th>0</th>\n",
       "      <td>NaN</td>\n",
       "      <td>NaN</td>\n",
       "      <td>NaN</td>\n",
       "      <td>NaN</td>\n",
       "      <td>NaN</td>\n",
       "      <td>INICIO</td>\n",
       "      <td>TERMINO</td>\n",
       "      <td>HORAS</td>\n",
       "      <td>MINUTOS</td>\n",
       "      <td>SEGUNDOS</td>\n",
       "    </tr>\n",
       "    <tr>\n",
       "      <th>1</th>\n",
       "      <td>B8711469</td>\n",
       "      <td>10.0</td>\n",
       "      <td>3.0</td>\n",
       "      <td>14.0</td>\n",
       "      <td>40.0</td>\n",
       "      <td>11/9/20 10:53 AM</td>\n",
       "      <td>11/9/20 11:01 AM</td>\n",
       "      <td>0</td>\n",
       "      <td>8</td>\n",
       "      <td>7</td>\n",
       "    </tr>\n",
       "    <tr>\n",
       "      <th>2</th>\n",
       "      <td>C5111713</td>\n",
       "      <td>10.0</td>\n",
       "      <td>1.0</td>\n",
       "      <td>15.0</td>\n",
       "      <td>80.0</td>\n",
       "      <td>11/6/20 9:37 AM</td>\n",
       "      <td>11/6/20 9:40 AM</td>\n",
       "      <td>0</td>\n",
       "      <td>3</td>\n",
       "      <td>25</td>\n",
       "    </tr>\n",
       "    <tr>\n",
       "      <th>3</th>\n",
       "      <td>C8411930</td>\n",
       "      <td>10.0</td>\n",
       "      <td>3.0</td>\n",
       "      <td>17.0</td>\n",
       "      <td>13.0</td>\n",
       "      <td>11/9/20 11:16 AM</td>\n",
       "      <td>11/9/20 11:30 AM</td>\n",
       "      <td>0</td>\n",
       "      <td>13</td>\n",
       "      <td>45</td>\n",
       "    </tr>\n",
       "    <tr>\n",
       "      <th>4</th>\n",
       "      <td>E3311647</td>\n",
       "      <td>10.0</td>\n",
       "      <td>2.0</td>\n",
       "      <td>25.0</td>\n",
       "      <td>5.0</td>\n",
       "      <td>11/9/20 10:11 AM</td>\n",
       "      <td>11/9/20 10:19 AM</td>\n",
       "      <td>0</td>\n",
       "      <td>8</td>\n",
       "      <td>14</td>\n",
       "    </tr>\n",
       "    <tr>\n",
       "      <th>...</th>\n",
       "      <td>...</td>\n",
       "      <td>...</td>\n",
       "      <td>...</td>\n",
       "      <td>...</td>\n",
       "      <td>...</td>\n",
       "      <td>...</td>\n",
       "      <td>...</td>\n",
       "      <td>...</td>\n",
       "      <td>...</td>\n",
       "      <td>...</td>\n",
       "    </tr>\n",
       "    <tr>\n",
       "      <th>1734</th>\n",
       "      <td>H0230297</td>\n",
       "      <td>10.0</td>\n",
       "      <td>2.0</td>\n",
       "      <td>34.0</td>\n",
       "      <td>1.0</td>\n",
       "      <td>11/4/20 12:52 PM</td>\n",
       "      <td>11/4/20 12:57 PM</td>\n",
       "      <td>0</td>\n",
       "      <td>4</td>\n",
       "      <td>16</td>\n",
       "    </tr>\n",
       "    <tr>\n",
       "      <th>1735</th>\n",
       "      <td>H0230303</td>\n",
       "      <td>10.0</td>\n",
       "      <td>2.0</td>\n",
       "      <td>34.0</td>\n",
       "      <td>1.0</td>\n",
       "      <td>11/6/20 9:41 AM</td>\n",
       "      <td>11/6/20 9:42 AM</td>\n",
       "      <td>0</td>\n",
       "      <td>1</td>\n",
       "      <td>4</td>\n",
       "    </tr>\n",
       "    <tr>\n",
       "      <th>1736</th>\n",
       "      <td>H0230304</td>\n",
       "      <td>10.0</td>\n",
       "      <td>2.0</td>\n",
       "      <td>34.0</td>\n",
       "      <td>1.0</td>\n",
       "      <td>11/6/20 10:13 AM</td>\n",
       "      <td>11/6/20 10:19 AM</td>\n",
       "      <td>0</td>\n",
       "      <td>6</td>\n",
       "      <td>34</td>\n",
       "    </tr>\n",
       "    <tr>\n",
       "      <th>1737</th>\n",
       "      <td>H0230305</td>\n",
       "      <td>10.0</td>\n",
       "      <td>2.0</td>\n",
       "      <td>34.0</td>\n",
       "      <td>1.0</td>\n",
       "      <td>11/6/20 11:52 AM</td>\n",
       "      <td>11/6/20 11:54 AM</td>\n",
       "      <td>0</td>\n",
       "      <td>2</td>\n",
       "      <td>33</td>\n",
       "    </tr>\n",
       "    <tr>\n",
       "      <th>1738</th>\n",
       "      <td>H0230307</td>\n",
       "      <td>10.0</td>\n",
       "      <td>2.0</td>\n",
       "      <td>34.0</td>\n",
       "      <td>1.0</td>\n",
       "      <td>11/10/20 9:09 AM</td>\n",
       "      <td>11/10/20 9:11 AM</td>\n",
       "      <td>0</td>\n",
       "      <td>2</td>\n",
       "      <td>20</td>\n",
       "    </tr>\n",
       "  </tbody>\n",
       "</table>\n",
       "<p>1739 rows × 10 columns</p>\n",
       "</div>"
      ],
      "text/plain": [
       "     REG PATRONAL  MODALIDAD  CIZ  DELEGACIÓN  SUBDELEGACIÓN  \\\n",
       "0             NaN        NaN  NaN         NaN            NaN   \n",
       "1        B8711469       10.0  3.0        14.0           40.0   \n",
       "2        C5111713       10.0  1.0        15.0           80.0   \n",
       "3        C8411930       10.0  3.0        17.0           13.0   \n",
       "4        E3311647       10.0  2.0        25.0            5.0   \n",
       "...           ...        ...  ...         ...            ...   \n",
       "1734     H0230297       10.0  2.0        34.0            1.0   \n",
       "1735     H0230303       10.0  2.0        34.0            1.0   \n",
       "1736     H0230304       10.0  2.0        34.0            1.0   \n",
       "1737     H0230305       10.0  2.0        34.0            1.0   \n",
       "1738     H0230307       10.0  2.0        34.0            1.0   \n",
       "\n",
       "                  HORA TIEMPO DE TRÁMITE Unnamed: 7 Unnamed: 8 Unnamed: 9  \n",
       "0               INICIO           TERMINO      HORAS    MINUTOS   SEGUNDOS  \n",
       "1     11/9/20 10:53 AM  11/9/20 11:01 AM          0          8          7  \n",
       "2      11/6/20 9:37 AM   11/6/20 9:40 AM          0          3         25  \n",
       "3     11/9/20 11:16 AM  11/9/20 11:30 AM          0         13         45  \n",
       "4     11/9/20 10:11 AM  11/9/20 10:19 AM          0          8         14  \n",
       "...                ...               ...        ...        ...        ...  \n",
       "1734  11/4/20 12:52 PM  11/4/20 12:57 PM          0          4         16  \n",
       "1735   11/6/20 9:41 AM   11/6/20 9:42 AM          0          1          4  \n",
       "1736  11/6/20 10:13 AM  11/6/20 10:19 AM          0          6         34  \n",
       "1737  11/6/20 11:52 AM  11/6/20 11:54 AM          0          2         33  \n",
       "1738  11/10/20 9:09 AM  11/10/20 9:11 AM          0          2         20  \n",
       "\n",
       "[1739 rows x 10 columns]"
      ]
     },
     "execution_count": 5,
     "metadata": {},
     "output_type": "execute_result"
    }
   ],
   "source": [
    "import pandas as pd\n",
    "\n",
    "data_ap = pd.read_csv('Reporte_AP_Reingenieria3.csv', encoding='Windows 1252')\n",
    "type(data_ap)\n",
    "data_ap\n"
   ]
  }
 ],
 "metadata": {
  "kernelspec": {
   "display_name": "Python 3",
   "language": "python",
   "name": "python3"
  },
  "language_info": {
   "codemirror_mode": {
    "name": "ipython",
    "version": 3
   },
   "file_extension": ".py",
   "mimetype": "text/x-python",
   "name": "python",
   "nbconvert_exporter": "python",
   "pygments_lexer": "ipython3",
   "version": "3.8.5"
  }
 },
 "nbformat": 4,
 "nbformat_minor": 4
}
